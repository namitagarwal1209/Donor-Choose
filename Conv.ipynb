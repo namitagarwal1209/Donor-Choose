{
  "nbformat": 4,
  "nbformat_minor": 0,
  "metadata": {
    "colab": {
      "name": "namit.agarwal1209@gmail.com_13.ipynb",
      "provenance": [],
      "collapsed_sections": []
    },
    "kernelspec": {
      "name": "python3",
      "display_name": "Python 3"
    }
  },
  "cells": [
    {
      "cell_type": "code",
      "metadata": {
        "id": "oNBIbRgua8VU",
        "colab_type": "code",
        "outputId": "4afcbc5b-177d-4e4b-a50f-b5dfa935a12a",
        "colab": {
          "base_uri": "https://localhost:8080/",
          "height": 34
        }
      },
      "source": [
        "from __future__ import print_function\n",
        "import keras\n",
        "from keras.datasets import mnist\n",
        "from keras.models import Sequential\n",
        "from keras.layers import Dense, Dropout, Flatten\n",
        "from keras.layers import Conv2D, MaxPooling2D\n",
        "from keras import backend as K"
      ],
      "execution_count": 0,
      "outputs": [
        {
          "output_type": "stream",
          "text": [
            "Using TensorFlow backend.\n"
          ],
          "name": "stderr"
        }
      ]
    },
    {
      "cell_type": "code",
      "metadata": {
        "id": "3PdOtd93bj4s",
        "colab_type": "code",
        "colab": {}
      },
      "source": [
        "batch_size = 128\n",
        "num_classes = 10\n",
        "epochs = 12"
      ],
      "execution_count": 0,
      "outputs": []
    },
    {
      "cell_type": "code",
      "metadata": {
        "id": "tpXPWcYuDJqh",
        "colab_type": "code",
        "colab": {}
      },
      "source": [
        "%matplotlib notebook\n",
        "%matplotlib inline \n",
        "\n",
        "import matplotlib.pyplot as plt\n",
        "import numpy as np\n",
        "import time\n",
        "# https://gist.github.com/greydanus/f6eee59eaf1d90fcb3b534a25362cea4\n",
        "# https://stackoverflow.com/a/14434334\n",
        "# this function is used to update the plots for each epoch and error\n",
        "def plt_dynamic(x, vy, ty, ax, colors=['b']):\n",
        "    ax.plot(x, vy, 'b', label=\"Validation Loss\")\n",
        "    ax.plot(x, ty, 'r', label=\"Train Loss\")\n",
        "    plt.legend()\n",
        "    plt.grid()\n",
        "    fig.canvas.draw()"
      ],
      "execution_count": 0,
      "outputs": []
    },
    {
      "cell_type": "code",
      "metadata": {
        "id": "ueUk9a_2bnz2",
        "colab_type": "code",
        "outputId": "627ecd5c-ae94-4d49-efdc-b0768fe96963",
        "colab": {
          "base_uri": "https://localhost:8080/",
          "height": 102
        }
      },
      "source": [
        "# input image dimensions\n",
        "img_rows, img_cols = 28, 28\n",
        "\n",
        "# the data, split between train and test sets\n",
        "(x_train, y_train), (x_test, y_test) = mnist.load_data()\n",
        "\n",
        "if K.image_data_format() == 'channels_first':\n",
        "    x_train = x_train.reshape(x_train.shape[0], 1, img_rows, img_cols)\n",
        "    x_test = x_test.reshape(x_test.shape[0], 1, img_rows, img_cols)\n",
        "    input_shape = (1, img_rows, img_cols)\n",
        "else:\n",
        "    x_train = x_train.reshape(x_train.shape[0], img_rows, img_cols, 1)\n",
        "    x_test = x_test.reshape(x_test.shape[0], img_rows, img_cols, 1)\n",
        "    input_shape = (img_rows, img_cols, 1)\n",
        "\n",
        "x_train = x_train.astype('float32')\n",
        "x_test = x_test.astype('float32')\n",
        "x_train /= 255\n",
        "x_test /= 255\n",
        "print('x_train shape:', x_train.shape)\n",
        "print(x_train.shape[0], 'train samples')\n",
        "print(x_test.shape[0], 'test samples')\n",
        "\n"
      ],
      "execution_count": 0,
      "outputs": [
        {
          "output_type": "stream",
          "text": [
            "Downloading data from https://s3.amazonaws.com/img-datasets/mnist.npz\n",
            "11493376/11490434 [==============================] - 1s 0us/step\n",
            "x_train shape: (60000, 28, 28, 1)\n",
            "60000 train samples\n",
            "10000 test samples\n"
          ],
          "name": "stdout"
        }
      ]
    },
    {
      "cell_type": "code",
      "metadata": {
        "id": "GCfYS38Qbr0N",
        "colab_type": "code",
        "colab": {}
      },
      "source": [
        "# convert class vectors to binary class matrices\n",
        "y_train = keras.utils.to_categorical(y_train, num_classes)\n",
        "y_test = keras.utils.to_categorical(y_test, num_classes)\n",
        "\n"
      ],
      "execution_count": 0,
      "outputs": []
    },
    {
      "cell_type": "code",
      "metadata": {
        "id": "Fb5WePFhddwS",
        "colab_type": "code",
        "outputId": "de503fd6-77f1-47a0-bcaf-85e6af64ee43",
        "colab": {
          "base_uri": "https://localhost:8080/",
          "height": 34
        }
      },
      "source": [
        "input_shape"
      ],
      "execution_count": 0,
      "outputs": [
        {
          "output_type": "execute_result",
          "data": {
            "text/plain": [
              "(28, 28, 1)"
            ]
          },
          "metadata": {
            "tags": []
          },
          "execution_count": 7
        }
      ]
    },
    {
      "cell_type": "markdown",
      "metadata": {
        "id": "s15IqoricdNI",
        "colab_type": "text"
      },
      "source": [
        "<H1>3 layer ConvNet </H1>"
      ]
    },
    {
      "cell_type": "code",
      "metadata": {
        "id": "fTP-4SKOb4NT",
        "colab_type": "code",
        "colab": {}
      },
      "source": [
        ""
      ],
      "execution_count": 0,
      "outputs": []
    },
    {
      "cell_type": "code",
      "metadata": {
        "id": "v9-Af9P9c6Wd",
        "colab_type": "code",
        "outputId": "b4fe96f9-5c37-4b56-da46-f37432d8444f",
        "colab": {
          "base_uri": "https://localhost:8080/",
          "height": 476
        }
      },
      "source": [
        "#conv-maxpool-conv-maxpool-conv-maxpool-flatten-fc-softmax\n",
        "\n",
        "model = Sequential()\n",
        "#first layer of conv\n",
        "model.add(Conv2D(128, (3,3), activation= 'relu', input_shape= input_shape))\n",
        "model.add(MaxPooling2D(pool_size = (2,2)))\n",
        "\n",
        "#second layer of conv\n",
        "model.add(Conv2D(64, (3,3), activation= 'relu'))\n",
        "model.add(MaxPooling2D(pool_size = (2,2)))\n",
        "model.add(Dropout(0.25))\n",
        "\n",
        "#third layer of conv\n",
        "model.add(Conv2D(32, (3,3), activation= 'relu'))\n",
        "model.add(MaxPooling2D(pool_size = (2,2)))\n",
        "model.add(Dropout(0.25))\n",
        "\n",
        "model.add(Flatten())\n",
        "model.add(Dense(128, activation = 'relu'))\n",
        "model.add(Dropout(0.5))\n",
        "model.add(Dense(num_classes, activation = 'softmax'))\n",
        "\n",
        "model.compile(loss = keras.losses.categorical_crossentropy, optimizer= keras.optimizers.Adadelta(), metrics = ['accuracy'])\n",
        "\n",
        "m1= model.fit(x_train , y_train,\n",
        "         batch_size = batch_size,\n",
        "         epochs = epochs,\n",
        "         verbose= 1,\n",
        "         validation_data = (x_test, y_test))\n",
        "\n",
        "score = model.evaluate(x_test, y_test, verbose = 0)\n",
        "print('Test loss:', score[0])\n",
        "print('Test accuracy:', score[1])"
      ],
      "execution_count": 9,
      "outputs": [
        {
          "output_type": "stream",
          "text": [
            "Train on 60000 samples, validate on 10000 samples\n",
            "Epoch 1/12\n",
            "60000/60000 [==============================] - 161s 3ms/step - loss: 0.7390 - acc: 0.7576 - val_loss: 0.1568 - val_acc: 0.9517\n",
            "Epoch 2/12\n",
            "60000/60000 [==============================] - 160s 3ms/step - loss: 0.2909 - acc: 0.9155 - val_loss: 0.1165 - val_acc: 0.9656\n",
            "Epoch 3/12\n",
            "60000/60000 [==============================] - 161s 3ms/step - loss: 0.2331 - acc: 0.9333 - val_loss: 0.0911 - val_acc: 0.9731\n",
            "Epoch 4/12\n",
            "60000/60000 [==============================] - 159s 3ms/step - loss: 0.2009 - acc: 0.9429 - val_loss: 0.0717 - val_acc: 0.9791\n",
            "Epoch 5/12\n",
            "60000/60000 [==============================] - 159s 3ms/step - loss: 0.1799 - acc: 0.9482 - val_loss: 0.0737 - val_acc: 0.9788\n",
            "Epoch 6/12\n",
            "60000/60000 [==============================] - 158s 3ms/step - loss: 0.1676 - acc: 0.9523 - val_loss: 0.0703 - val_acc: 0.9801\n",
            "Epoch 7/12\n",
            "60000/60000 [==============================] - 159s 3ms/step - loss: 0.1528 - acc: 0.9561 - val_loss: 0.0677 - val_acc: 0.9807\n",
            "Epoch 8/12\n",
            "60000/60000 [==============================] - 158s 3ms/step - loss: 0.1462 - acc: 0.9589 - val_loss: 0.0576 - val_acc: 0.9817\n",
            "Epoch 9/12\n",
            "60000/60000 [==============================] - 158s 3ms/step - loss: 0.1372 - acc: 0.9612 - val_loss: 0.0589 - val_acc: 0.9830\n",
            "Epoch 10/12\n",
            "60000/60000 [==============================] - 159s 3ms/step - loss: 0.1313 - acc: 0.9637 - val_loss: 0.0618 - val_acc: 0.9821\n",
            "Epoch 11/12\n",
            "60000/60000 [==============================] - 160s 3ms/step - loss: 0.1257 - acc: 0.9642 - val_loss: 0.0571 - val_acc: 0.9833\n",
            "Epoch 12/12\n",
            "60000/60000 [==============================] - 160s 3ms/step - loss: 0.1199 - acc: 0.9666 - val_loss: 0.0596 - val_acc: 0.9840\n",
            "Test loss: 0.059578480206961104\n",
            "Test accuracy: 0.984\n"
          ],
          "name": "stdout"
        }
      ]
    },
    {
      "cell_type": "code",
      "metadata": {
        "id": "GXhiKYV30lE8",
        "colab_type": "code",
        "colab": {
          "base_uri": "https://localhost:8080/",
          "height": 283
        },
        "outputId": "11357ae4-a3ec-4937-a893-37f040e017a8"
      },
      "source": [
        "fig, ax = plt.subplots(1,1)\n",
        "\n",
        "ax.set_xlabel('epoch') ; ax.set_ylabel('Categorical Crossentropy Loss')\n",
        "\n",
        "x= list(range(1,epochs +1))\n",
        "\n",
        "train_loss = m1.history['loss']\n",
        "validation_loss = m1.history['val_loss']\n",
        "\n",
        "plt_dynamic(x,validation_loss,train_loss,ax)"
      ],
      "execution_count": 21,
      "outputs": [
        {
          "output_type": "display_data",
          "data": {
            "image/png": "[encoded data removed]",
            "text/plain": [
              "<Figure size 432x288 with 1 Axes>"
            ]
          },
          "metadata": {
            "tags": []
          }
        }
      ]
    },
    {
      "cell_type": "markdown",
      "metadata": {
        "id": "FJrQrfBThFDD",
        "colab_type": "text"
      },
      "source": [
        "<h1> 5-layer Conv </h1>\n"
      ]
    },
    {
      "cell_type": "code",
      "metadata": {
        "id": "Wpuw7PwHc6wg",
        "colab_type": "code",
        "colab": {}
      },
      "source": [
        "from keras.layers.normalization import BatchNormalization\n",
        "from keras.initializers import he_normal\n"
      ],
      "execution_count": 0,
      "outputs": []
    },
    {
      "cell_type": "code",
      "metadata": {
        "id": "zvaVAiEPc7Et",
        "colab_type": "code",
        "outputId": "07420356-3abb-4a9e-e29d-2c7980c8807c",
        "colab": {
          "base_uri": "https://localhost:8080/",
          "height": 476
        }
      },
      "source": [
        "# conv-conv- maxpool-conv-conv-conv-maxpool-flatten-FC-BN-softmax\n",
        "\n",
        "model = Sequential()\n",
        "#first layer of conv\n",
        "model.add(Conv2D(64, (5,5),strides =(2,2),padding= 'same', activation= 'relu', input_shape= input_shape))  #kernel_size= (5,5) and strides = (2,2)\n",
        "model.add(Dropout(0.25))\n",
        "#second layer of conv\n",
        "model.add(Conv2D(64, (5,5), strides =(2,2),padding= 'same', activation= 'relu'))#kernel_size= (5,5) and strides = (2,2)\n",
        "model.add(MaxPooling2D(pool_size = (2,2)))\n",
        "model.add(Dropout(0.5))\n",
        "\n",
        "#third layer of conv\n",
        "model.add(Conv2D(128, (3,3),padding= 'same', activation= 'relu'))#kernel_size= (3,3)\n",
        "model.add(Dropout(0.25))\n",
        "\n",
        "#fourth layer of conv\n",
        "model.add(Conv2D(128, (3,3),padding= 'same', activation= 'relu'))#kernel_size= (3,3)\n",
        "model.add(Dropout(0.25))\n",
        "\n",
        "#fifth layer of conv\n",
        "model.add(Conv2D(128, (3,3),padding= 'same', activation= 'relu'))#kernel_size= (3,3)\n",
        "model.add(MaxPooling2D(pool_size = (2,2)))\n",
        "model.add(Dropout(0.5))\n",
        "\n",
        "model.add(Flatten())\n",
        "\n",
        "model.add(Dense(256, activation = 'relu',kernel_initializer = he_normal(seed= None))) \n",
        "model.add(BatchNormalization())\n",
        "model.add(Dropout(0.5))\n",
        "\n",
        "model.add(Dense(num_classes, activation = 'softmax'))\n",
        "\n",
        "model.compile(loss = keras.losses.categorical_crossentropy, optimizer= keras.optimizers.Adam(), metrics = ['accuracy'])  #using Adam optimizer\n",
        "\n",
        "m2 = model.fit(x_train , y_train,\n",
        "         batch_size = batch_size,\n",
        "         epochs = epochs,\n",
        "         verbose= 1,\n",
        "         validation_data = (x_test, y_test))\n",
        "\n",
        "score = model.evaluate(x_test, y_test, verbose = 0)\n",
        "print('Test loss:', score[0])\n",
        "print('Test accuracy:', score[1])"
      ],
      "execution_count": 23,
      "outputs": [
        {
          "output_type": "stream",
          "text": [
            "Train on 60000 samples, validate on 10000 samples\n",
            "Epoch 1/12\n",
            "60000/60000 [==============================] - 154s 3ms/step - loss: 2.4399 - acc: 0.1910 - val_loss: 3.0387 - val_acc: 0.1135\n",
            "Epoch 2/12\n",
            "60000/60000 [==============================] - 156s 3ms/step - loss: 0.8663 - acc: 0.6937 - val_loss: 0.2178 - val_acc: 0.9474\n",
            "Epoch 3/12\n",
            "60000/60000 [==============================] - 155s 3ms/step - loss: 0.2590 - acc: 0.9285 - val_loss: 0.0812 - val_acc: 0.9746\n",
            "Epoch 4/12\n",
            "60000/60000 [==============================] - 154s 3ms/step - loss: 0.1817 - acc: 0.9514 - val_loss: 0.0676 - val_acc: 0.9810\n",
            "Epoch 5/12\n",
            "60000/60000 [==============================] - 153s 3ms/step - loss: 0.1516 - acc: 0.9591 - val_loss: 0.0495 - val_acc: 0.9852\n",
            "Epoch 6/12\n",
            "60000/60000 [==============================] - 153s 3ms/step - loss: 0.1338 - acc: 0.9647 - val_loss: 0.0473 - val_acc: 0.9858\n",
            "Epoch 7/12\n",
            "60000/60000 [==============================] - 152s 3ms/step - loss: 0.1169 - acc: 0.9686 - val_loss: 0.0380 - val_acc: 0.9888\n",
            "Epoch 8/12\n",
            "60000/60000 [==============================] - 151s 3ms/step - loss: 0.1076 - acc: 0.9708 - val_loss: 0.0368 - val_acc: 0.9874\n",
            "Epoch 9/12\n",
            "60000/60000 [==============================] - 154s 3ms/step - loss: 0.0999 - acc: 0.9735 - val_loss: 0.0347 - val_acc: 0.9892\n",
            "Epoch 10/12\n",
            "60000/60000 [==============================] - 154s 3ms/step - loss: 0.0956 - acc: 0.9745 - val_loss: 0.0307 - val_acc: 0.9909\n",
            "Epoch 11/12\n",
            "60000/60000 [==============================] - 157s 3ms/step - loss: 0.0909 - acc: 0.9752 - val_loss: 0.0301 - val_acc: 0.9914\n",
            "Epoch 12/12\n",
            "60000/60000 [==============================] - 155s 3ms/step - loss: 0.0834 - acc: 0.9770 - val_loss: 0.0340 - val_acc: 0.9901\n",
            "Test loss: 0.03395028633371112\n",
            "Test accuracy: 0.9901\n"
          ],
          "name": "stdout"
        }
      ]
    },
    {
      "cell_type": "code",
      "metadata": {
        "id": "Z2LJ5KITEXQY",
        "colab_type": "code",
        "colab": {
          "base_uri": "https://localhost:8080/",
          "height": 283
        },
        "outputId": "714ac81c-a721-4a6f-f960-558cdc340656"
      },
      "source": [
        "fig, ax = plt.subplots(1,1)\n",
        "\n",
        "ax.set_xlabel('epoch') ; ax.set_ylabel('Categorical Crossentropy Loss')\n",
        "\n",
        "x= list(range(1,epochs +1))\n",
        "\n",
        "train_loss = m2.history['loss']\n",
        "validation_loss = m2.history['val_loss']\n",
        "\n",
        "plt_dynamic(x,validation_loss,train_loss,ax)"
      ],
      "execution_count": 24,
      "outputs": [
        {
          "output_type": "display_data",
          "data": {
            "image/png": "[encoded data removed]",
            "text/plain": [
              "<Figure size 432x288 with 1 Axes>"
            ]
          },
          "metadata": {
            "tags": []
          }
        }
      ]
    },
    {
      "cell_type": "markdown",
      "metadata": {
        "id": "oyNTI0CjnFik",
        "colab_type": "text"
      },
      "source": [
        "<h1> 7-layer- Conv</h1>"
      ]
    },
    {
      "cell_type": "code",
      "metadata": {
        "id": "nSkDtObsc7dc",
        "colab_type": "code",
        "outputId": "108485dd-8cb8-4b0b-d993-17ff458d1068",
        "colab": {
          "base_uri": "https://localhost:8080/",
          "height": 1000
        }
      },
      "source": [
        "#conv-conv-maxpool-conv-conv-maxpool-BN-conv-conv-conv-maxpool-BN-flatten-fc-softmax\n",
        "\n",
        "model = Sequential()\n",
        "#first layer of conv\n",
        "model.add(Conv2D(32, (7,7), padding= 'same', activation= 'relu', input_shape= input_shape))  #kernel_size= (7,7) \n",
        "\n",
        "#second layer of conv\n",
        "model.add(Conv2D(32, (7,7),padding= 'same', activation= 'relu'))#kernel_size= (5,5) \n",
        "model.add(MaxPooling2D(pool_size = (2,2)))\n",
        "model.add(Dropout(0.5))\n",
        "\n",
        "#third layer of conv\n",
        "model.add(Conv2D(128, (5,5),strides =(2,2),padding= 'same', activation= 'relu'))  #kernel_size= (5,5) and strides = (2,2)\n",
        "\n",
        "#fourth layer of conv\n",
        "model.add(Conv2D(128, (5,5), strides =(2,2),padding= 'same', activation= 'relu'))#kernel_size= (5,5) and strides = (2,2)\n",
        "model.add(MaxPooling2D(pool_size = (2,2)))\n",
        "model.add(BatchNormalization())\n",
        "model.add(Dropout(0.5))\n",
        "\n",
        "#fifth layer of conv\n",
        "model.add(Conv2D(64, (3,3),padding= 'same', activation= 'relu'))#kernel_size= (3,3)\n",
        "model.add(Dropout(0.25))\n",
        "\n",
        "#sixth layer of conv\n",
        "model.add(Conv2D(64, (3,3),padding= 'same', activation= 'relu'))#kernel_size= (3,3)\n",
        "model.add(Dropout(0.25))\n",
        "\n",
        "#seventh layer of conv\n",
        "model.add(Conv2D(64, (3,3),padding= 'same', activation= 'relu'))#kernel_size= (3,3)\n",
        "model.add(MaxPooling2D(pool_size = (2,2)))\n",
        "model.add(BatchNormalization())\n",
        "model.add(Dropout(0.5))\n",
        "\n",
        "model.add(Flatten())\n",
        "\n",
        "model.add(Dense(256, activation = 'relu',kernel_initializer = he_normal(seed= None))) \n",
        "model.add(Dropout(0.5))\n",
        "\n",
        "model.add(Dense(num_classes, activation = 'softmax'))\n",
        "\n",
        "model.compile(loss = keras.losses.categorical_crossentropy, optimizer= keras.optimizers.Adam(), metrics = ['accuracy'])  #using Adam optimizer\n",
        "\n",
        "m3 = model.fit(x_train , y_train,\n",
        "         batch_size = batch_size,\n",
        "         epochs = epochs,\n",
        "         verbose= 1,\n",
        "         validation_data = (x_test, y_test))\n",
        "\n",
        "score = model.evaluate(x_test, y_test, verbose = 0)\n",
        "print('Test loss:', score[0])\n",
        "print('Test accuracy:', score[1])"
      ],
      "execution_count": 25,
      "outputs": [
        {
          "output_type": "stream",
          "text": [
            "WARNING:tensorflow:From /usr/local/lib/python3.6/dist-packages/keras/backend/tensorflow_backend.py:2041: The name tf.nn.fused_batch_norm is deprecated. Please use tf.compat.v1.nn.fused_batch_norm instead.\n",
            "\n",
            "Train on 60000 samples, validate on 10000 samples\n",
            "Epoch 1/12\n",
            "60000/60000 [==============================] - 760s 13ms/step - loss: 1.8664 - acc: 0.4218 - val_loss: 0.4580 - val_acc: 0.8502\n",
            "Epoch 2/12\n",
            "60000/60000 [==============================] - 763s 13ms/step - loss: 0.4450 - acc: 0.8658 - val_loss: 0.1234 - val_acc: 0.9631\n",
            "Epoch 3/12\n",
            "60000/60000 [==============================] - 765s 13ms/step - loss: 0.2188 - acc: 0.9404 - val_loss: 0.0808 - val_acc: 0.9768\n",
            "Epoch 4/12\n",
            "60000/60000 [==============================] - 770s 13ms/step - loss: 0.1598 - acc: 0.9587 - val_loss: 0.0588 - val_acc: 0.9825\n",
            "Epoch 5/12\n",
            "60000/60000 [==============================] - 772s 13ms/step - loss: 0.1267 - acc: 0.9672 - val_loss: 0.0594 - val_acc: 0.9832\n",
            "Epoch 6/12\n",
            "60000/60000 [==============================] - 767s 13ms/step - loss: 0.1114 - acc: 0.9713 - val_loss: 0.0412 - val_acc: 0.9883\n",
            "Epoch 7/12\n",
            "60000/60000 [==============================] - 768s 13ms/step - loss: 0.0986 - acc: 0.9758 - val_loss: 0.0451 - val_acc: 0.9863\n",
            "Epoch 8/12\n",
            "60000/60000 [==============================] - 796s 13ms/step - loss: 0.0892 - acc: 0.9774 - val_loss: 0.0448 - val_acc: 0.9869\n",
            "Epoch 9/12\n",
            "60000/60000 [==============================] - 770s 13ms/step - loss: 0.0788 - acc: 0.9797 - val_loss: 0.0377 - val_acc: 0.9891\n",
            "Epoch 10/12\n",
            "60000/60000 [==============================] - 765s 13ms/step - loss: 0.0738 - acc: 0.9812 - val_loss: 0.0287 - val_acc: 0.9926\n",
            "Epoch 11/12\n",
            "60000/60000 [==============================] - 767s 13ms/step - loss: 0.0706 - acc: 0.9827 - val_loss: 0.0289 - val_acc: 0.9912\n",
            "Epoch 12/12\n",
            "60000/60000 [==============================] - 770s 13ms/step - loss: 0.0651 - acc: 0.9837 - val_loss: 0.0354 - val_acc: 0.9905\n",
            "Test loss: 0.03544537307580176\n",
            "Test accuracy: 0.9905\n"
          ],
          "name": "stdout"
        }
      ]
    },
    {
      "cell_type": "code",
      "metadata": {
        "id": "QppTyBBinEb-",
        "colab_type": "code",
        "colab": {
          "base_uri": "https://localhost:8080/",
          "height": 283
        },
        "outputId": "c34b8527-72fd-4daf-bd15-9828fdd16270"
      },
      "source": [
        "fig, ax = plt.subplots(1,1)\n",
        "\n",
        "ax.set_xlabel('epoch') ; ax.set_ylabel('Categorical Crossentropy Loss')\n",
        "\n",
        "x= list(range(1,epochs +1))\n",
        "\n",
        "train_loss = m3.history['loss']\n",
        "validation_loss = m3.history['val_loss']\n",
        "\n",
        "plt_dynamic(x,validation_loss,train_loss,ax)"
      ],
      "execution_count": 26,
      "outputs": [
        {
          "output_type": "display_data",
          "data": {
            "image/png": "[encoded data removed]",
            "text/plain": [
              "<Figure size 432x288 with 1 Axes>"
            ]
          },
          "metadata": {
            "tags": []
          }
        }
      ]
    },
    {
      "cell_type": "code",
      "metadata": {
        "id": "Htzb7Wk1nEut",
        "colab_type": "code",
        "colab": {}
      },
      "source": [
        "from prettytable import PrettyTable\n",
        "\n",
        "x = PrettyTable()\n",
        "x.field_names = ['Model', 'Test Score/Loss', 'Test Accuracy']\n",
        "\n",
        "x.add_row(['Model 1 - 3 layer', '0.059','98.4%'])\n",
        "x.add_row(['Model 2 - 5 layer','0.033','99.01%'])\n",
        "x.add_row(['Model 3 - 7 layer', '0.035','99.05%'])"
      ],
      "execution_count": 0,
      "outputs": []
    },
    {
      "cell_type": "code",
      "metadata": {
        "id": "OhZ_uqdlnFEI",
        "colab_type": "code",
        "colab": {
          "base_uri": "https://localhost:8080/",
          "height": 136
        },
        "outputId": "dfa00df6-c1a1-4810-cbe6-0f9de4244ef1"
      },
      "source": [
        "print(x)"
      ],
      "execution_count": 29,
      "outputs": [
        {
          "output_type": "stream",
          "text": [
            "+-------------------+-----------------+---------------+\n",
            "|       Model       | Test Score/Loss | Test Accuracy |\n",
            "+-------------------+-----------------+---------------+\n",
            "| Model 1 - 3 layer |      0.059      |     98.4%     |\n",
            "| Model 2 - 5 layer |      0.033      |     99.01%    |\n",
            "| Model 3 - 7 layer |      0.035      |     99.05%    |\n",
            "+-------------------+-----------------+---------------+\n"
          ],
          "name": "stdout"
        }
      ]
    },
    {
      "cell_type": "code",
      "metadata": {
        "id": "azekPrDA2xNv",
        "colab_type": "code",
        "colab": {}
      },
      "source": [
        ""
      ],
      "execution_count": 0,
      "outputs": []
    }
  ]
}